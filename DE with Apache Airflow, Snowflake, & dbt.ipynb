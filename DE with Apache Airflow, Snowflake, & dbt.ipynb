{
 "cells": [
  {
   "cell_type": "code",
   "execution_count": 1,
   "id": "9222d812",
   "metadata": {},
   "outputs": [
    {
     "name": "stdout",
     "output_type": "stream",
     "text": [
      "C:\\Users\\mkhan\\OneDrive - US Xpress\\Documents\\Github\\snowflake\n"
     ]
    }
   ],
   "source": [
    "mkdir dbt_airflow && cd \"$_\""
   ]
  },
  {
   "cell_type": "code",
   "execution_count": 5,
   "id": "0cf8fc99",
   "metadata": {},
   "outputs": [
    {
     "ename": "SyntaxError",
     "evalue": "invalid syntax (2336525384.py, line 1)",
     "output_type": "error",
     "traceback": [
      "\u001b[1;36m  Input \u001b[1;32mIn [5]\u001b[1;36m\u001b[0m\n\u001b[1;33m    curl -LfO \"https://airflow.apache.org/docs/apache-airflow/2.3.0/docker-compose.yaml\"\u001b[0m\n\u001b[1;37m              ^\u001b[0m\n\u001b[1;31mSyntaxError\u001b[0m\u001b[1;31m:\u001b[0m invalid syntax\n"
     ]
    }
   ],
   "source": [
    "curl -LfO 'https://airflow.apache.org/docs/apache-airflow/2.3.0/docker-compose.yaml'"
   ]
  },
  {
   "cell_type": "code",
   "execution_count": null,
   "id": "81fe76a6",
   "metadata": {},
   "outputs": [],
   "source": [
    "#create folder"
   ]
  },
  {
   "cell_type": "code",
   "execution_count": 7,
   "id": "7329bfb3",
   "metadata": {},
   "outputs": [
    {
     "name": "stderr",
     "output_type": "stream",
     "text": [
      "A subdirectory or file dags already exists.\n"
     ]
    }
   ],
   "source": [
    "mkdir dags"
   ]
  },
  {
   "cell_type": "code",
   "execution_count": null,
   "id": "617d19a4",
   "metadata": {},
   "outputs": [],
   "source": []
  }
 ],
 "metadata": {
  "kernelspec": {
   "display_name": "Python 3 (ipykernel)",
   "language": "python",
   "name": "python3"
  },
  "language_info": {
   "codemirror_mode": {
    "name": "ipython",
    "version": 3
   },
   "file_extension": ".py",
   "mimetype": "text/x-python",
   "name": "python",
   "nbconvert_exporter": "python",
   "pygments_lexer": "ipython3",
   "version": "3.9.12"
  }
 },
 "nbformat": 4,
 "nbformat_minor": 5
}
